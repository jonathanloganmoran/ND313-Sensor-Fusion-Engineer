{
  "nbformat": 4,
  "nbformat_minor": 0,
  "metadata": {
    "colab": {
      "provenance": []
    },
    "kernelspec": {
      "name": "python3",
      "display_name": "Python 3"
    },
    "language_info": {
      "name": "python"
    }
  },
  "cells": [
    {
      "cell_type": "markdown",
      "source": [
        "# Course 1: Lidar\n",
        "## Part 3: Clustering Obstacles\n",
        "#### By Jonathan L. Moran (jonathan.moran107@gmail.com)\n",
        "From the Sensor Fusion Nanodegree programme offered at Udacity."
      ],
      "metadata": {
        "id": "kcwMmkWEPdiR"
      }
    },
    {
      "cell_type": "markdown",
      "source": [
        "## Objectives"
      ],
      "metadata": {
        "id": "1z3BXoHhPde4"
      }
    },
    {
      "cell_type": "markdown",
      "source": [],
      "metadata": {
        "id": "_8JvH_I9PdcS"
      }
    },
    {
      "cell_type": "markdown",
      "source": [
        "## 1. Introduction"
      ],
      "metadata": {
        "id": "qqc6NXZsPdY4"
      }
    },
    {
      "cell_type": "markdown",
      "source": [
        "### 1.1: Euclidean Clustering with KD-Tree"
      ],
      "metadata": {
        "id": "Eqj5eoJjPdWS"
      }
    },
    {
      "cell_type": "markdown",
      "source": [
        "#### Euclidean clustering algorithm"
      ],
      "metadata": {
        "id": "lJJ7oLRePdTr"
      }
    },
    {
      "cell_type": "markdown",
      "source": [
        "* Nearest Neighbour search;\n",
        "* Euclidean distance threshold / heuristic;"
      ],
      "metadata": {
        "id": "Wr9YfztkPdQz"
      }
    },
    {
      "cell_type": "markdown",
      "source": [
        "#### KD-Tree"
      ],
      "metadata": {
        "id": "sVF6PJ2kPdNr"
      }
    },
    {
      "cell_type": "markdown",
      "source": [
        "* Search space efficiency;\n",
        "* Look-up time complexity;"
      ],
      "metadata": {
        "id": "iUkruK9KPdK2"
      }
    },
    {
      "cell_type": "markdown",
      "source": [
        "## 2. Programming Task"
      ],
      "metadata": {
        "id": "4Pox7BPsPdH8"
      }
    },
    {
      "cell_type": "markdown",
      "source": [
        "### Euclidean Clustering with KD-Tree using Point Cloud Library (PCL)"
      ],
      "metadata": {
        "id": "PUtDheSSPdFW"
      }
    },
    {
      "cell_type": "markdown",
      "source": [
        "## 3. Closing Remarks"
      ],
      "metadata": {
        "id": "XWHcOmfnUMkQ"
      }
    },
    {
      "cell_type": "markdown",
      "source": [
        "#### Alternatives\n",
        "*\n",
        "\n",
        "\n",
        "#### Extensions of task\n",
        "*"
      ],
      "metadata": {
        "id": "d2sOpvbKUMh7"
      }
    },
    {
      "cell_type": "markdown",
      "source": [
        "## 4. Future Work\n",
        "* ⬜️\n",
        "* ✅"
      ],
      "metadata": {
        "id": "wbA0jhrlUMey"
      }
    },
    {
      "cell_type": "markdown",
      "source": [
        "## Credits"
      ],
      "metadata": {
        "id": "D6lFonX0UMb7"
      }
    },
    {
      "cell_type": "markdown",
      "source": [
        "This assignment was prepared by Aaron Brown and Michael Maile of Mercedes-Benz Research & Development of North America (MBRDNA), 2021 (link [here](https://learn.udacity.com/nanodegrees/nd313/)).\n",
        "\n",
        "\n",
        "References\n",
        "* [1] .\n",
        "\n",
        "\n",
        "Helpful resources:\n",
        "* []()."
      ],
      "metadata": {
        "id": "U6NmHxwWUMXP"
      }
    }
  ]
}