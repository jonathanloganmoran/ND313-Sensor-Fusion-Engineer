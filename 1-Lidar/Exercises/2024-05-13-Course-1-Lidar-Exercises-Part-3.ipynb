{
  "cells": [
    {
      "cell_type": "markdown",
      "metadata": {
        "id": "kcwMmkWEPdiR"
      },
      "source": [
        "# Course 1: Lidar\n",
        "## Part 3: Clustering Obstacles\n",
        "#### By Jonathan L. Moran (jonathan.moran107@gmail.com)\n",
        "From the Sensor Fusion Nanodegree programme offered at Udacity."
      ]
    },
    {
      "cell_type": "markdown",
      "metadata": {
        "id": "1z3BXoHhPde4"
      },
      "source": [
        "## Objectives"
      ]
    },
    {
      "cell_type": "markdown",
      "metadata": {
        "id": "_8JvH_I9PdcS"
      },
      "source": []
    },
    {
      "cell_type": "markdown",
      "metadata": {
        "id": "qqc6NXZsPdY4"
      },
      "source": [
        "## 1. Introduction"
      ]
    },
    {
      "cell_type": "markdown",
      "metadata": {
        "id": "Eqj5eoJjPdWS"
      },
      "source": [
        "### 1.1: Euclidean Clustering with K-D Tree"
      ]
    },
    {
      "cell_type": "markdown",
      "metadata": {
        "id": "lJJ7oLRePdTr"
      },
      "source": [
        "#### Euclidean clustering algorithm"
      ]
    },
    {
      "cell_type": "markdown",
      "metadata": {},
      "source": [
        "Euclidean clustering is a type of [cluster analysis](https://en.wikipedia.org/wiki/Cluster_analysis) algorithm used to detect and group nearby points in a dataset. Using a [Euclidean distance](https://en.wikipedia.org/wiki/Euclidean_distance) heuristic, each point's membership to its neighbours is considered. Points which are \"close\" in distance to each otoher are grouped together to form a local cluster. Through the use of a [nearest neighbour search](https://en.wikipedia.org/wiki/Nearest_neighbor_search), this \"closeness\" heuristic is explored, and the resulting set of clusters is approximated in the fashion of an optimisation problem. In other words, the \"most optimal\" set of resulting clusters is determined by grouping together the points whose distance between each other is minimal.\n",
        "\n",
        "In our application, we use Euclidean clustering to group the LiDAR points belonging to the distinct objects in our scene — the surrounding vehicles. We make use of the Point Cloud Library (PCL), which provides us with the [`pcl::EuclideanClusterExtraction`](https://pointclouds.org/documentation/tutorials/cluster_extraction.html) class to perform the clustering. Using a [K-D Tree](https://en.wikipedia.org/wiki/K-d_tree) allows us to \"speed up\" the nearest neighbour search by organising points into a hierarchial strucutre, therefore restricting the number of total points that must be \"explored\" when forming each cluster. The K-D Tree is a special case of the [binary space partitioning](https://en.wikipedia.org/wiki/Binary_space_partitioning) tree structure, which \"splits\" the point space into branches based on the median values of the points along the chosen dimension(s). Once the tree is formed using the entire set of possible points, \"searching\" for nearby points becomes a matter of tree traversal, where the distance is checked against the nodes of the tree in a recursive manner. With the K-D Tree structure, we are able to more-efficiently perform \"look-up\" in $O\\left(\\mathrm{log}n\\right)$ time complexity."
      ]
    },
    {
      "cell_type": "markdown",
      "metadata": {},
      "source": [
        "### 1.2: Using the K-D Tree"
      ]
    },
    {
      "cell_type": "markdown",
      "metadata": {},
      "source": [
        "#### Insertion"
      ]
    },
    {
      "cell_type": "markdown",
      "metadata": {},
      "source": [
        "The first point inserted into the K-D Tree naturally becomes the \"root\" node; at the very beginning when the tree is empty, the root node is `NULL`. After the first point is inserted, the root node is populated. In our case, the tree splits the $x$-axis region with the $x$-coordinate value of the first point inserted. In other words, for a first point $n_{1} = \\left(-6.2, 7.0\\right)$, we have a K-D Tree (of `depth = 0`) whose root is equal to the inserted point. This K-D Tree will have _left_ nodes with future points containing $x$-axis values _less than_ $-6.2$, and _right_ nodes with future points containing $x$-axis values _greater than_ $-6.2$. For the next point inserted (at `depth = 1`), we will split along the $y$-axis. For example, the point $n_{2} = \\left(-6.3, 8.4\\right)$ becomes the _left_ child node of the root, since its $x$-axis value $-6.3$ is less than the root with value $-6.2$. Our third point, $n _{3} = \\left(-5.2, 7.1\\right)$, then becomes the _right_ child node of thre root and remains at a `depth = 1` in the tree. A fourth point $n _{4} = \\left(-5.7, 6.3\\right)$, is inserted into the three. This time, the splitting axis is along the $y$-axis, which means that this node will be inserted at `depth = 2` in the tree, and become the _left_ child node of the third node $n_{3}$, since this fourth point has a $y$-coordinate value of $6.3$ which is _less than_ $7.1$, the $y$-coordinate value of the third point $n_{3}$.\n",
        "\n",
        "\n",
        "This gives us the tree structure shown in Figure 1 below:"
      ]
    },
    {
      "cell_type": "markdown",
      "metadata": {},
      "source": [
        "<img src=\"figures/2024-05-13-Figure-1-Using-the-K-D-Tree-Insertion.png\" alt=\"Figure 1. Using the K-D Tree — Insertion (shown in the figure is a simple K-D Tree with four nodes; n_{1} appearing at the root with `depth = 0`, n_{2} and n_{3} at `depth = 1` as left- and right child nodes, respectively, and n_{4} at `depth = 2` as the left child node of n_{3}).\" height=\"65%\" width=\"65%\">\n",
        "\n",
        "$$\\textrm{Figure 1. Using the K-D Tree — Insertion.}"
      ]
    },
    {
      "cell_type": "markdown",
      "metadata": {},
      "source": [
        "##### Quiz Question #1"
      ]
    },
    {
      "cell_type": "markdown",
      "metadata": {},
      "source": [
        "**Question #1**: Given a node with values $\\left(7.2, 6.1\\right)$, where in the above tree (shown in Figure 1) should the node be inserted at?\n",
        "\n",
        "**Answer #1**: At position $\\textrm{D}$.\n",
        "\n",
        "**Explanation**: The node $\\left(7.2, 6.1\\right)$ will be inserted at position $\\textrm{D}$ in the tree. This is because we traverse the tree from the root by first comparing the node's $x$-coordinate value, $7.2$, with the root, $-6.2$. Since the node with value $7.2$ is _greater than_ the root's $x$-value, we \"split\" to the right branch. At the next level (`depth = 1`), we now consider the node's $y$-coordinate value of $6.1$. Since this value is _less than_ the right child node's $y$-coordinate value of $7.1$, we move to the left sub-branch. At `depth = 2`, we are left with two possible positions, $\\textrm{C}$ and $\\textrm{D}$. By comparing the node's $x$-coordinate value of $7.2$ against the already-inserted node's value of $-5.7$, we determine the position at which the given node will be inserted into the tree is at location $\\textrm{D}$, since the value $7.2$ is _greater than_ $-5.7$. As you may have observed in this exercise, the \"axis\" we split at alternates with each iteration of `depth` in the tree — starting with $x$-axis at `depth = 0`, then $y$-axis at `depth = 1`, and so on... "
      ]
    },
    {
      "cell_type": "markdown",
      "metadata": {},
      "source": [
        "##### Performance Improvements"
      ]
    },
    {
      "cell_type": "markdown",
      "metadata": {},
      "source": [
        "By \"balancing\" the tree we can improve search time. To do so, insert points that _evenly_ split the $x$- and $y$-region values by sorting the points to be inserted into the tree and selecting the _median_ value along the respective axis we are considering (depending on the `depth` we are considering at the current iteration). For instance, consider the following four points:\n",
        "$$\\begin{Bmatrix}\n",
        "    \\left(-6.3, 8.4\\right), \\left(-6.2, 7.0\\right), \\left(-5.2, 7.1\\right), \\left(-5.7, 6.3\\right)\\end{Bmatrix}.$$\n",
        "The first point to be inserted into the tree shown in Figure 1 would therefore be $\\left(-5.2, 7.1\\right)$. This is because this point along the $x$-axis is equal to the median of the set. For the next point to insert, we select the median value along the alternate $y$-axis. This gives us $\\left(-6.2, 7.0\\right)$, the second point to insert. For the third point to insert, we switch back to the $x$-axis and consider the next median $x$-value between the two remaining points. This gives us $\\left(-5.7, 6.3\\right)$. Then we conclude the insert operation with the fourth and final point remaining — $\\left(-6.3, 8.4\\right)$.\n",
        "\n",
        "By selecting the median value with respect to the current splitting axis we are considering, we can more-optimally split the region at each iteration and effectively improve the search time during later use."
      ]
    },
    {
      "cell_type": "markdown",
      "metadata": {
        "id": "4Pox7BPsPdH8"
      },
      "source": [
        "## 2. Programming Task"
      ]
    },
    {
      "cell_type": "markdown",
      "metadata": {
        "id": "PUtDheSSPdFW"
      },
      "source": [
        "### Euclidean Clustering with KD-Tree using Point Cloud Library (PCL)"
      ]
    },
    {
      "cell_type": "markdown",
      "metadata": {
        "id": "UJF8ga_5PdCe"
      },
      "source": [
        "#### E1.3.1: `Clustering`"
      ]
    },
    {
      "cell_type": "markdown",
      "metadata": {
        "id": "ccE2R0fkPc_n"
      },
      "source": [
        "By following the [Euclidean Cluster Extraction](https://pointclouds.org/documentation/tutorials/cluster_extraction.html) tutorial from Point Cloud Library (PCL), we will be able to group together individual LiDAR point returns to form \"clusters\". These clusters can be then used to identify objects in the driving scene, such as other vehicles, pedestrians or VRUs (vulnerable road users, e.g., bicyclists).  "
      ]
    },
    {
      "cell_type": "markdown",
      "metadata": {},
      "source": [
        "##### The `Clustering` function"
      ]
    },
    {
      "cell_type": "markdown",
      "metadata": {},
      "source": [
        "```cpp\n",
        "// From J. Moran's `src/processPointClouds.cpp`\n",
        "// Credit: https://github.com/jonathanloganmoran/ND313-Sensor-Fusion-Engineer/blob/1.3/1-Lidar/1-1-Lidar-Obstacle-Detection/src/processPointClouds.cpp\n",
        "```"
      ]
    },
    {
      "cell_type": "markdown",
      "metadata": {
        "id": "uaNXmxSIRM00"
      },
      "source": [
        "```cpp\n",
        "// In `src/processPointClouds.cpp`:\n",
        "\n",
        "\n",
        "template<typename PointT> std::vector<\n",
        "    typename pcl::PointCloud<PointT>::Ptr\n",
        "> ProcessPointClouds<PointT>::Clustering(\n",
        "    typename pcl::PointCloud<PointT>::Ptr cloud,\n",
        "    float clusterTolerance,\n",
        "    int minSize,\n",
        "    int maxSize\n",
        ") {\n",
        "    // Time clustering process\n",
        "    auto startTime = std::chrono::steady_clock::now();\n",
        "    std::vector<typename pcl::PointCloud<PointT>::Ptr> clusters;\n",
        "    /*** E1.3.1: Euclidean clustering with PCL. ***/\n",
        "    // TODO:: Fill in the function to perform euclidean clustering to group detected obstacles\n",
        "    // Creating the KD-Tree object for the search method of the extraction\n",
        "    pcl::search::KdTree<pcl::PointXYZ>::Ptr tree(\n",
        "        new pcl::search::KdTree<pcl::PointXYZ>\n",
        "    );\n",
        "    // Creating the Euclidean clustering class instance\n",
        "    pcl::EuclideanClusterExtraction<pcl::PointXYZ> ec;\n",
        "    // Setting the input cloud for the KD-Tree\n",
        "    // NOTE: We assume the ground plane has been \"filtered\" out\n",
        "    tree->setInputCloud(cloud);\n",
        "    // Configuring the clustering parameters\n",
        "    std::vector<pcl::PointIndices> clusterIndices;\n",
        "    ec.setClusterTolerance(clusterTolerance);\n",
        "    ec.setMinClusterSize(minSize);\n",
        "    ec.setMaxClusterSize(maxSize);\n",
        "    ec.setSearchMethod(tree);\n",
        "    ec.setInputCloud(cloud);\n",
        "    ec.extract(clusterIndices);\n",
        "    // Performing the clustering with Euclidean distance\n",
        "    for (const auto& cluster : clusterIndices) {\n",
        "        // Creating a new point cloud instance for the current cluster\n",
        "        pcl::PointCloud<pcl::PointXYZ>::Ptr cloudCluster(\n",
        "            new pcl::PointCloud<pcl::PointXYZ>\n",
        "        );\n",
        "        for (const auto& idx : cluster.indices) {\n",
        "            // Copying over the indices of the current cluster\n",
        "            cloudCluster->push_back(\n",
        "                (*cloud)[idx]\n",
        "            );\n",
        "        }\n",
        "        // Setting the cluster parameters\n",
        "        cloudCluster->width = cloudCluster->size();\n",
        "        cloudCluster->height = 1;\n",
        "        cloudCluster->is_dense = true;\n",
        "        std::cout << \"PointCloud representing the Cluster: \"\n",
        "                  << cloudCluster->size() << \" data points.\\n\";\n",
        "        // Adding cluster to return vector\n",
        "        clusters.push_back(cloudCluster);\n",
        "    }\n",
        "    auto endTime = std::chrono::steady_clock::now();\n",
        "    auto elapsedTime = std::chrono::duration_cast<\n",
        "        std::chrono::milliseconds\n",
        "    >(endTime - startTime);\n",
        "    std::cout << \"Clustering took \" \n",
        "              << elapsedTime.count() << \" milliseconds,\"\n",
        "              << \" and found \" << clusters.size() << \" clusters.\\n\";\n",
        "    return clusters;\n",
        "}\n",
        "```"
      ]
    },
    {
      "cell_type": "markdown",
      "metadata": {},
      "source": [
        "##### Testing the `Clustering` function"
      ]
    },
    {
      "cell_type": "markdown",
      "metadata": {},
      "source": [
        "To run the above `Clustering` algorithm, call the function from inside `src/environment.cpp` as follows:"
      ]
    },
    {
      "cell_type": "markdown",
      "metadata": {},
      "source": [
        "```cpp\n",
        "// From J. Moran's `src/environment.cpp`:\n",
        "// Credit: https://github.com/jonathanloganmoran/ND313-Sensor-Fusion-Engineer/blob/1.3/1-Lidar/1-1-Lidar-Obstacle-Detection/src/environment.cpp\n",
        "```"
      ]
    },
    {
      "cell_type": "markdown",
      "metadata": {},
      "source": [
        "```cpp\n",
        "// In `src/environment.cpp`:\n",
        "\n",
        "void simpleHighway(\n",
        "    pcl::visualization::PCLVisualizer::Ptr& viewer\n",
        ") {\n",
        "    // ..\n",
        "    /** E1.3.1: Euclidean clustering with PCL. **/\n",
        "    // Defining the clustering parameters\n",
        "    double distanceTol = 1.0;           // Euclidean threshold (m)\n",
        "    int minSize = 3;\n",
        "    int maxSize = 30;\n",
        "    // Performing the clustering\n",
        "    std::vector<\n",
        "        pcl::PointCloud<pcl::PointXYZ>::Ptr\n",
        "    > cloudClusters = pointProcessorXYZ.Clustering(\n",
        "        segmentCloud.first,\n",
        "        distanceTol,\n",
        "        minSize,\n",
        "        maxSize\n",
        "    );\n",
        "    // ..\n",
        "}\n",
        "```"
      ]
    },
    {
      "cell_type": "markdown",
      "metadata": {},
      "source": [
        "We define our input arguments to the `Clustering` function:\n",
        "* `distanceTol` — Threshold distance (in metres) for determining point candidates, i.e., whether points should be considered part of the same cluster. Points separated by a greater distance than this threshold will not be grouped together;\n",
        "* `minSize` — The minimum number of points assumed to belong to an individual cluster. By setting a \"minimum\" number of points for each \"cluster\", we can prevent forming clusters which are too sparse, which might be related to noise and not representative of actual objects in the scene;\n",
        "* `maxSize` — The maximum number of points assumed to belong to an individual cluster. By setting a \"maximum\" number of points for each \"cluster\", we can prevent forming clusters which are too dense, which might erroneously combine points from multiple distinct objects.\n",
        "\n",
        "By carefully selecting these parameters, we can attempt to avoid clustering points which might have been generated from noise (either from sensor inaccuracies) or are belonging to non-objects or multiple overlapping objects."
      ]
    },
    {
      "cell_type": "markdown",
      "metadata": {},
      "source": [
        "#### E1.3.2: Visualising the clusters"
      ]
    },
    {
      "cell_type": "markdown",
      "metadata": {},
      "source": [
        "In this part we simply render the clusters we generated above using the `Clustering` function. To display these point clusters, we will use the PCL Viewer canvas. To make the clusters \"stand out\", we will assign each a unique RGB-valued colour, then render the points onto the canvas."
      ]
    },
    {
      "cell_type": "markdown",
      "metadata": {},
      "source": [
        "```cpp\n",
        "// From J. Moran's `src/environment.cpp`:\n",
        "// Credit: https://github.com/jonathanloganmoran/ND313-Sensor-Fusion-Engineer/blob/1.3/1-Lidar/1-1-Lidar-Obstacle-Detection/src/environment.cpp\n",
        "```"
      ]
    },
    {
      "cell_type": "markdown",
      "metadata": {},
      "source": [
        "```cpp\n",
        "// In `src/environment.cpp`:\n",
        "\n",
        "void simpleHighway(\n",
        "    pcl::visualization::PCLVisualizer::Ptr& viewer\n",
        ") {\n",
        "    // ..\n",
        "    /** E1.3.2: Visualising the clusters found. **/\n",
        "    // Using a unique identifer for each cluster found\n",
        "    int clusterId = 0;\n",
        "    // Set of colours to use when rendering the clusters found\n",
        "    std::vector<Color> colors = {\n",
        "        Color(1, 0, 0),\n",
        "        Color(0, 1, 0),\n",
        "        Color(0, 0, 1)\n",
        "    };\n",
        "    // Rendering each cluster onto the PCL viewer\n",
        "    for (pcl::PointCloud<pcl::PointXYZ>::Ptr cluster : cloudClusters) {\n",
        "        std::cout << \"cluster size: \";\n",
        "        pointProcessorXYZ.numPoints(cluster);\n",
        "        renderPointCloud(\n",
        "            viewer,\n",
        "            cluster,\n",
        "            \"obstCloud\" + std::to_string(clusterId),\n",
        "            colors[clusterId]\n",
        "        );\n",
        "        ++clusterId;\n",
        "    }\n",
        "    // ..\n",
        "}\n",
        "```"
      ]
    },
    {
      "cell_type": "markdown",
      "metadata": {},
      "source": [
        "<img src=\"figures/2024-05-13-Figure-1-Euclidean-Clustering-Results-Visualised.png\" alt=\"Figure 1. Euclidean Clustering Results — Visualised (shown are two 'blobs' of points, one in the colour green with three distinct points; the other in the colour red with four distinct points).\" height=\"70%\" width=\"70%\">\n",
        "\n",
        "$$\\textrm{Figure 1. Euclidean Clustering Results — Visualised.}$$\n",
        "\n",
        "Shown in the above figure are two 'blobs' of points (the unique \"clusters\" found). One cluster, shown in the colour _green_, contains a set of three distinct points. The other cluster, shown in the colour _red_, contains a set of four distinct points."
      ]
    },
    {
      "cell_type": "markdown",
      "metadata": {},
      "source": [
        "#### E1.3.3: `insert`"
      ]
    },
    {
      "cell_type": "markdown",
      "metadata": {},
      "source": [
        "In this exercise we define the `insert` function, which will be used to insert new nodes into our tree structure. This function will recursively traverse the tree until a `NULL`-valued \"node\" has been found. In this case, where the discovered \"node\" is `NULL`, we update the \"empty\" node's address to be equal to the \"memory address\" of a new `Node` instance. With the new `Node` instantiated, we set its value (i.e., the `point` member variable) to be equal to the 2D Cartesian `point` coordinate we wish to insert into our K-D Tree at the `NULL` location found. We also assign the new `Node` an `id` value which corresponds to the current \"node\" we are inserting into the tree, i.e., a sequential counter determining the current node we are working with.\n",
        "\n",
        "To achieve the recursive nature of the intended `insert` function, we must create a \"helper\" function that performs the actual recurisve tree traversal operation. That is, we create an [overloaded function](https://www.geeksforgeeks.org/function-overloading-c/) which contains two additional input arguments: `node` and `depth`. These two arguments allow us to specify the current node and the \"depth\" of the tree we are considering at the respective iteration of the traversal. Together, these additional arguments allow us to \"update\" the memory address of the tree \"root\" to point to the current `node`, plus use the `depth` argument to determine which branch of the sub-tree to \"split\" next, i.e., whether we should consider the current node's left- or right child. The `depth` value determines which axis, $x$- or $y$-, we will \"look at\" and compare the values to. For further explanation of this mechanism, see the _Insertion_ sub-section of _Part 1.2: Using the K-D Tree_ above.      "
      ]
    },
    {
      "cell_type": "markdown",
      "metadata": {},
      "source": [
        "```cpp\n",
        "// In J. Moran's `src/quiz/cluster/kdtree.h`\n",
        "// Credit: \n",
        "```"
      ]
    },
    {
      "cell_type": "markdown",
      "metadata": {},
      "source": [
        "```cpp\n",
        "// In `src/quiz/cluster/kdtree.h`:\n",
        "\n",
        "struct KdTree {\n",
        "    // ..\n",
        "\tvoid insert(\n",
        "        std::vector<float> point, \n",
        "        int id\n",
        "    ) {\n",
        "\t\t// TODO: Fill in this function to insert a new point into the tree\n",
        "\t\t// the function should create a new node and place correctly with in the root \n",
        "\tvoid insert(\n",
        "\t\tNode *&node,\n",
        "\t\tint depth,\n",
        "\t\tstd::vector<float> point, \n",
        "\t\tint id\n",
        "\t) {\n",
        "\t\t// TODO: Fill in this function to insert a new point into the tree\n",
        "\t\t// the function should create a new node and place correctly with in the root \n",
        "\t\t/** E1.3.3: Inserting a new `Node` into the tree. **/\n",
        "\t\t/* Traversing the tree until an \"empty\" node is found */\n",
        "\t\t// Determining which of the two coordinate axes to \"split\" on\n",
        "\t\t// i.e., we consider either the $x$- or $y$-axis value at this iteration\n",
        "\t\tuint axis = depth % 2;\n",
        "\t\t// Using the point value to determine where the node should be inserted\n",
        "\t\t// ~~TODO: Switch the usage of `node` to be synonymous with \"current node\"~~\n",
        "\t\t// UPDATE: Using recursive function call to handle current node iteration\n",
        "\t\tif (node == NULL) {\n",
        "\t\t\t// CASE 1: Found an \"empty\" node,\n",
        "\t\t\t// ~~TODO: insert new `Node` into this location.~~\n",
        "\t\t\tnode = new Node(\n",
        "\t\t\t\tpoint,\n",
        "\t\t\t\tid\n",
        "\t\t\t);\n",
        "\t\t}\n",
        "\t\t// CASE 2: Determine which child node to branch to\n",
        "\t\t// Depending on the point value given, choose left or right\n",
        "\t\telse if (node->point[axis] > point[axis]) {\n",
        "\t\t\t// Value of point to insert is less than current node,\n",
        "\t\t\t// i.e., branch to left child node.\n",
        "\t\t\tinsert(\n",
        "\t\t\t\tnode->left,\n",
        "\t\t\t\tdepth + 1, \n",
        "\t\t\t\tpoint, \n",
        "\t\t\t\tid\n",
        "\t\t\t);\n",
        "\t\t}\n",
        "\t\telse if (node->point[axis] < point[axis]) {\n",
        "\t\t\t// Value of point to insert is greater than current node,\n",
        "\t\t\t// i.e., branch to right child node.\n",
        "\t\t\tinsert(\n",
        "\t\t\t\tnode->right,\n",
        "\t\t\t\tdepth + 1,\n",
        "\t\t\t\tpoint, \n",
        "\t\t\t\tid\n",
        "\t\t\t);\n",
        "\t\t}\n",
        "\t\telse {\n",
        "\t\t\t// ERROR; should not occur.\n",
        "\t\t\t// TODO: Handle error with case(s).\n",
        "\t\t}\n",
        "\t}\n",
        "\tvoid insert(\n",
        "\t\tstd::vector<float> point,\n",
        "\t\tint id\n",
        "\t) {\n",
        "\t\t// Begin tree traversal at the initial depth\n",
        "\t\tint depth = 0;\n",
        "\t\t// Recursive function call to traverse the tree and insert a new node\n",
        "\t\tinsert(\n",
        "\t\t\tthis->root,\n",
        "\t\t\tdepth,\n",
        "\t\t\tpoint,\n",
        "\t\t\tid\n",
        "\t\t);\n",
        "\t}\n",
        "\t// ..\n",
        "}\n",
        "```"
      ]
    },
    {
      "cell_type": "markdown",
      "metadata": {
        "id": "XWHcOmfnUMkQ"
      },
      "source": [
        "## 3. Closing Remarks"
      ]
    },
    {
      "cell_type": "markdown",
      "metadata": {
        "id": "d2sOpvbKUMh7"
      },
      "source": [
        "#### Alternatives\n",
        "*\n",
        "\n",
        "\n",
        "#### Extensions of task\n",
        "*"
      ]
    },
    {
      "cell_type": "markdown",
      "metadata": {
        "id": "wbA0jhrlUMey"
      },
      "source": [
        "## 4. Future Work\n",
        "* ⬜️\n",
        "* ✅"
      ]
    },
    {
      "cell_type": "markdown",
      "metadata": {
        "id": "D6lFonX0UMb7"
      },
      "source": [
        "## Credits"
      ]
    },
    {
      "cell_type": "markdown",
      "metadata": {
        "id": "U6NmHxwWUMXP"
      },
      "source": [
        "This assignment was prepared by Aaron Brown and Michael Maile of Mercedes-Benz Research & Development of North America (MBRDNA), 2021 (link [here](https://learn.udacity.com/nanodegrees/nd313/)).\n",
        "\n",
        "\n",
        "References\n",
        "* [1] .\n",
        "\n",
        "\n",
        "Helpful resources:\n",
        "* []()."
      ]
    }
  ],
  "metadata": {
    "colab": {
      "provenance": []
    },
    "kernelspec": {
      "display_name": "Python 3",
      "name": "python3"
    },
    "language_info": {
      "name": "python"
    }
  },
  "nbformat": 4,
  "nbformat_minor": 0
}
