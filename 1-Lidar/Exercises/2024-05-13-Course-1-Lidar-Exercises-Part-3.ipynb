{
  "cells": [
    {
      "cell_type": "markdown",
      "metadata": {
        "id": "kcwMmkWEPdiR"
      },
      "source": [
        "# Course 1: Lidar\n",
        "## Part 3: Clustering Obstacles\n",
        "#### By Jonathan L. Moran (jonathan.moran107@gmail.com)\n",
        "From the Sensor Fusion Nanodegree programme offered at Udacity."
      ]
    },
    {
      "cell_type": "markdown",
      "metadata": {
        "id": "1z3BXoHhPde4"
      },
      "source": [
        "## Objectives"
      ]
    },
    {
      "cell_type": "markdown",
      "metadata": {
        "id": "_8JvH_I9PdcS"
      },
      "source": []
    },
    {
      "cell_type": "markdown",
      "metadata": {
        "id": "qqc6NXZsPdY4"
      },
      "source": [
        "## 1. Introduction"
      ]
    },
    {
      "cell_type": "markdown",
      "metadata": {
        "id": "Eqj5eoJjPdWS"
      },
      "source": [
        "### 1.1: Euclidean Clustering with KD-Tree"
      ]
    },
    {
      "cell_type": "markdown",
      "metadata": {
        "id": "lJJ7oLRePdTr"
      },
      "source": [
        "#### Euclidean clustering algorithm"
      ]
    },
    {
      "cell_type": "markdown",
      "metadata": {},
      "source": [
        "Euclidean clustering is a type of [cluster analysis](https://en.wikipedia.org/wiki/Cluster_analysis) algorithm used to detect and group nearby points in a dataset. Using a [Euclidean distance](https://en.wikipedia.org/wiki/Euclidean_distance) heuristic, each point's membership to its neighbours is considered. Points which are \"close\" in distance to each otoher are grouped together to form a local cluster. Through the use of a [nearest neighbour search](https://en.wikipedia.org/wiki/Nearest_neighbor_search), this \"closeness\" heuristic is explored, and the resulting set of clusters is approximated in the fashion of an optimisation problem. In other words, the \"most optimal\" set of resulting clusters is determined by grouping together the points whose distance between each other is minimal.\n",
        "\n",
        "In our application, we use Euclidean clustering to group the LiDAR points belonging to the distinct objects in our scene — the surrounding vehicles. We make use of the Point Cloud Library (PCL), which provides us with the [`pcl::EuclideanClusterExtraction`](https://pointclouds.org/documentation/tutorials/cluster_extraction.html) class to perform the clustering. Using a [K-D Tree](https://en.wikipedia.org/wiki/K-d_tree) allows us to \"speed up\" the nearest neighbour search by organising points into a hierarchial strucutre, therefore restricting the number of total points that must be \"explored\" when forming each cluster. The K-D Tree is a special case of the [binary space partitioning](https://en.wikipedia.org/wiki/Binary_space_partitioning) tree structure, which \"splits\" the point space into branches based on the median values of the points along the chosen dimension(s). Once the tree is formed using the entire set of possible points, \"searching\" for nearby points becomes a matter of tree traversal, where the distance is checked against the nodes of the tree in a recursive manner. With the K-D Tree structure, we are able to more-efficiently perform \"look-up\" in $O\\left(\\mathrm{log}n\\right)$ time complexity."
      ]
    },
    {
      "cell_type": "markdown",
      "metadata": {
        "id": "4Pox7BPsPdH8"
      },
      "source": [
        "## 2. Programming Task"
      ]
    },
    {
      "cell_type": "markdown",
      "metadata": {
        "id": "PUtDheSSPdFW"
      },
      "source": [
        "### Euclidean Clustering with KD-Tree using Point Cloud Library (PCL)"
      ]
    },
    {
      "cell_type": "markdown",
      "metadata": {
        "id": "UJF8ga_5PdCe"
      },
      "source": [
        "##### E1.3.1: `Clustering`"
      ]
    },
    {
      "cell_type": "markdown",
      "metadata": {
        "id": "ccE2R0fkPc_n"
      },
      "source": [
        "By following the [Euclidean Cluster Extraction](https://pointclouds.org/documentation/tutorials/cluster_extraction.html) tutorial from Point Cloud Library (PCL), we will be able to group together individual LiDAR point returns to form \"clusters\". These clusters can be then used to identify objects in the driving scene, such as other vehicles, pedestrians or VRUs (vulnerable road users, e.g., bicyclists).  "
      ]
    },
    {
      "cell_type": "markdown",
      "metadata": {
        "id": "uaNXmxSIRM00"
      },
      "source": [
        "```cpp\n",
        "// In `src/processPointClouds.cpp`:\n",
        "\n",
        "\n",
        "template<typename PointT> std::vector<\n",
        "    typename pcl::PointCloud<PointT>::Ptr\n",
        "> ProcessPointClouds<PointT>::Clustering(\n",
        "    typename pcl::PointCloud<PointT>::Ptr cloud,\n",
        "    float clusterTolerance,\n",
        "    int minSize,\n",
        "    int maxSize\n",
        ") {\n",
        "    // Time clustering process\n",
        "    auto startTime = std::chrono::steady_clock::now();\n",
        "    std::vector<typename pcl::PointCloud<PointT>::Ptr> clusters;\n",
        "    /*** E1.3.1: Euclidean clustering with PCL. ***/\n",
        "    // TODO:: Fill in the function to perform euclidean clustering to group detected obstacles\n",
        "    // Creating the KD-Tree object for the search method of the extraction\n",
        "    pcl::search::KdTree<pcl::PointXYZ>::Ptr tree(\n",
        "        new pcl::search::KdTree<pcl::PointXYZ>\n",
        "    );\n",
        "    // Creating the Euclidean clustering class instance\n",
        "    pcl::EuclideanClusterExtraction<pcl::PointXYZ> ec;\n",
        "    // Setting the input cloud for the KD-Tree\n",
        "    // NOTE: We assume the ground plane has been \"filtered\" out\n",
        "    tree->setInputCloud(cloud);\n",
        "    // Configuring the clustering parameters\n",
        "    std::vector<pcl::PointIndices> clusterIndices;\n",
        "    ec.setClusterTolerance(clusterTolerance);\n",
        "    ec.setMinClusterSize(minSize);\n",
        "    ec.setMaxClusterSize(maxSize);\n",
        "    ec.setSearchMethod(tree);\n",
        "    ec.setInputCloud(cloud);\n",
        "    ec.extract(clusterIndices);\n",
        "    // Performing the clustering with Euclidean distance\n",
        "    for (const auto& cluster : clusterIndices) {\n",
        "        // Creating a new point cloud instance for the current cluster\n",
        "        pcl::PointCloud<pcl::PointXYZ>::Ptr cloudCluster(\n",
        "            new pcl::PointCloud<pcl::PointXYZ>\n",
        "        );\n",
        "        for (const auto& idx : cluster.indices) {\n",
        "            // Copying over the indices of the current cluster\n",
        "            cloudCluster->push_back(\n",
        "                (*cloud)[idx]\n",
        "            );\n",
        "        }\n",
        "        // Setting the cluster parameters\n",
        "        cloudCluster->width = cloudCluster->size();\n",
        "        cloudCluster->height = 1;\n",
        "        cloudCluster->is_dense = true;\n",
        "        std::cout << \"PointCloud representing the Cluster: \"\n",
        "                  << cloudCluster->size() << \" data points.\\n\";\n",
        "        // Adding cluster to return vector\n",
        "        clusters.push_back(cloudCluster);\n",
        "    }\n",
        "    auto endTime = std::chrono::steady_clock::now();\n",
        "    auto elapsedTime = std::chrono::duration_cast<\n",
        "        std::chrono::milliseconds\n",
        "    >(endTime - startTime);\n",
        "    std::cout << \"Clustering took \" \n",
        "              << elapsedTime.count() << \" milliseconds,\"\n",
        "              << \" and found \" << clusters.size() << \" clusters.\\n\";\n",
        "    return clusters;\n",
        "}\n",
        "```"
      ]
    },
    {
      "cell_type": "markdown",
      "metadata": {
        "id": "XWHcOmfnUMkQ"
      },
      "source": [
        "## 3. Closing Remarks"
      ]
    },
    {
      "cell_type": "markdown",
      "metadata": {
        "id": "d2sOpvbKUMh7"
      },
      "source": [
        "#### Alternatives\n",
        "*\n",
        "\n",
        "\n",
        "#### Extensions of task\n",
        "*"
      ]
    },
    {
      "cell_type": "markdown",
      "metadata": {
        "id": "wbA0jhrlUMey"
      },
      "source": [
        "## 4. Future Work\n",
        "* ⬜️\n",
        "* ✅"
      ]
    },
    {
      "cell_type": "markdown",
      "metadata": {
        "id": "D6lFonX0UMb7"
      },
      "source": [
        "## Credits"
      ]
    },
    {
      "cell_type": "markdown",
      "metadata": {
        "id": "U6NmHxwWUMXP"
      },
      "source": [
        "This assignment was prepared by Aaron Brown and Michael Maile of Mercedes-Benz Research & Development of North America (MBRDNA), 2021 (link [here](https://learn.udacity.com/nanodegrees/nd313/)).\n",
        "\n",
        "\n",
        "References\n",
        "* [1] .\n",
        "\n",
        "\n",
        "Helpful resources:\n",
        "* []()."
      ]
    }
  ],
  "metadata": {
    "colab": {
      "provenance": []
    },
    "kernelspec": {
      "display_name": "Python 3",
      "name": "python3"
    },
    "language_info": {
      "name": "python"
    }
  },
  "nbformat": 4,
  "nbformat_minor": 0
}
