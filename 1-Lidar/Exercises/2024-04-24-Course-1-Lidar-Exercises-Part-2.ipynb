{
 "cells": [
  {
   "cell_type": "markdown",
   "id": "334551a1",
   "metadata": {},
   "source": [
    "# Course 1: Lidar\n",
    "## Part 2: Point Cloud Segmentation \n",
    "#### By Jonathan L. Moran (jonathan.moran107@gmail.com)\n",
    "From the Sensor Fusion Nanodegree programme offered at Udacity."
   ]
  },
  {
   "cell_type": "markdown",
   "id": "ae0c2958",
   "metadata": {},
   "source": [
    "## Objectives"
   ]
  },
  {
   "cell_type": "markdown",
   "id": "326b6f4f",
   "metadata": {},
   "source": [
    "* Use the [Point Cloud Library](https://pointclouds.org/) (PCL) to segment point clouds;\n",
    "* Implement the [Random Sample Consensus](https://en.wikipedia.org/wiki/Random_sample_consensus) (RANSAC) algorithm for planar model fitting;\n",
    "* Perform ground plane separation to \"remove\" the road surface from our point cloud data."
   ]
  },
  {
   "cell_type": "markdown",
   "id": "521c66c6",
   "metadata": {},
   "source": [
    "## 1. Introduction"
   ]
  },
  {
   "cell_type": "markdown",
   "id": "0ff5e954",
   "metadata": {},
   "source": [
    "### 1.1. Point Cloud Segmentation"
   ]
  },
  {
   "cell_type": "markdown",
   "id": "f328586f",
   "metadata": {},
   "source": [
    "Our goal in this lesson is to _process_ the point cloud data we received from the LiDAR sensor and _segment_ it in such a way that we are able to \"remove\" any of the points from our scene which do not belong to the obstacles we wish to detect. In the driving domain, one common type of points in which we wish to remove are _ground plane_ points. These are the points which \"belong\" to the road surface(s) that the vehicle(s) travel along. \n",
    "\n",
    "There are many potential use cases for LiDAR sensors in the automotive space, with point cloud segmentation being one such use case discussed in detail here. There are many other uses for LiDAR sensors and point clouds in the automotive and robotics space: multi-modal sensor calibration / fusion techniques, semi-supervised deep learning models for depth estimation, and for bench-marking tasks used to e.g., evaluate the performance of a \"stand-alone\" sensor on a given task (such as RGB camera-based vision systems on the monocular depth estimation task).\n",
    "\n",
    "In the following section, we will narrow our scope to focus only on ground plane estimation as it relates to point cloud segmentation in the section below..."
   ]
  },
  {
   "cell_type": "markdown",
   "id": "d3cf007a",
   "metadata": {},
   "source": [
    "#### Ground Plane Estimation: Problem Setup"
   ]
  },
  {
   "cell_type": "markdown",
   "id": "1dae0921",
   "metadata": {},
   "source": [
    "In this subsection we will review the topic of ground plane estimation, which is a preliminary exercise for point cloud segmentation and is essential to performing obstacle detection on LiDAR point cloud data. Ground plane estimation involves \"detecting\" and segmenting points in a point cloud which belong to the ground surface(s) in a scene. Using a technique known as planar fitting, we can extract the points from a levelled surface and remove them from the point cloud. Once these points are effectively discarded, we can begin to segment the object(s) or obstacle(s) for upstream tasks such as detection, tracking, classification, etc.\n",
    "\n",
    "One primary assumption we will make about the surface we wish to segment is that it is level. In other words, we assume the ground plane / road surface our ego-vehicle is travelling on is _non-inclined_, i.e., that it has a $0^{\\circ}$ elevation coinciding with the normal vector (usually defined as the vector perpendicular to the road surface; the upward-facing $z$-axis). To further simplify this problem, we also assume that the surface the ego-vehicle is travelling on is a uniform [planar surface](https://en.wikipedia.org/wiki/Planar_Riemann_surface). In other words, we assume there are no imperfections or deviations along the surface, which would cause the surface to deviate from a smooth, continuous composition. This implies that a constant elevation and constant slope exist along the surface's length and width. In the real-world, road surfaces have elevation, slope, and [textures](https://en.wikipedia.org/wiki/Road_texture) — design elements which break the simplifications we are forming for this toy problem. While real-world road surfaces complicate our rudimentary approach to road plane segmentation, advancements in R&D have been able to handle the non-uniform geometries that exist with non-planar road surfaces by employing various techniques such as deep learning feature extraction [1].   \n",
    "\n",
    "In our toy example, we proceed with a planar surface assumption that will allow us to form a set of geometric constraints onto our environment which will help us better project a \"surface\" used to blanket the potential LiDAR points we wish to include in the segmented point cloud. Such a simplification will allow us to reduce the plane fitting estimation into an exercise of \"best-fit\". Using the [RANSAC](https://en.wikipedia.org/wiki/Random_sample_consensus) algorithm, we can \"work out\" which points belong to the ground plane / simplified road surface by randomly-sampling a small set of points, fitting a \"plane equation\" to those sampled points, then performing an iterative two-step inlier \"verification\" and \"consensus\" stage to refine the planar surface estimation. It is with this iterative least-squares estimation algorithm we can determine a ground plane equation which \"fits\" or includes the most inlier (true positive) points, leaving us with a \"segmentation\" of sorts that includes most, if not all, the points belonging to our modelled road surface."
   ]
  },
  {
   "cell_type": "markdown",
   "id": "19a48202",
   "metadata": {},
   "source": [
    "#### Further Considerations for Autonomous Vehicles"
   ]
  },
  {
   "cell_type": "markdown",
   "id": "5c9d2cc5",
   "metadata": {},
   "source": [
    "We discussed above the necessary trade-offs of our ground plane segmentation problem as it relates to real-world road surfaces. Now, we briefly address the additional constraints placed upon the solution space that come with applications designated for autonomous vehicles. One of those constraints is _robustness_; the ability of an algorithm to appropriately segment a multitude of road surfaces in a variety of conditions is crucial. One grid-based technique, known as multi-level segmentation, handles the diversity in road surfaces by breaking apart the point cloud into smaller chunks to analyse the subsections separately (a \"divide-and-conquer\" strategy). Another way to account for dynamic road surface characteristics is to use statistical methods to define local features or adjacent points (e.g., Iterative Closest Point). These approaches work by defining a set of parameters (e.g., distance thresholds, point densities, terrain characteristics) to better handle (or adapt) to these challenges. \n",
    "\n",
    "With any approach, a very real constraint must be considered. That is, the need for real-time processing. Efficient algorithms are critical, as autonomous vehicles must quickly and effectively perform segmentation on incoming LiDAR data. Therefore, scalable solutions are usually at the forefront of a researcher's mind when it comes to designing for autonomous vehicles."
   ]
  },
  {
   "cell_type": "markdown",
   "id": "d909c6bb",
   "metadata": {},
   "source": [
    "## 2. Programming Task"
   ]
  },
  {
   "cell_type": "markdown",
   "id": "b54566cd",
   "metadata": {},
   "source": [
    "## 3. Closing Remarks"
   ]
  },
  {
   "cell_type": "markdown",
   "id": "04fbf2ed",
   "metadata": {},
   "source": [
    "#### Alternatives\n",
    "\n",
    "\n",
    "#### Extensions of task"
   ]
  },
  {
   "cell_type": "markdown",
   "id": "4b4351f3",
   "metadata": {},
   "source": [
    "## 4. Future Work"
   ]
  },
  {
   "cell_type": "markdown",
   "id": "2d3cd63c",
   "metadata": {},
   "source": [
    "* ⬜️ ;\n",
    "* ⬜️ ."
   ]
  },
  {
   "cell_type": "markdown",
   "id": "99288d8b",
   "metadata": {},
   "source": [
    "## Credits"
   ]
  },
  {
   "cell_type": "markdown",
   "id": "eceeb99f",
   "metadata": {},
   "source": [
    "This assignment was prepared by Aaron Brown and Michael Maile of Mercedes-Benz Research & Development of North America (MBRDNA), 2021 (link [here](https://learn.udacity.com/nanodegrees/nd313/)).\n",
    "\n",
    "\n",
    "References\n",
    "* [1] Paigwar, A. Erkent, Ö., Sierra-Gonzalez, D. Laugier, C. GndNet: Fast Ground Plane Estimation and Point Cloud Segmentation for Autonomous Vehicles. IEEE/RSJ International Conference on Intelligent Robots and Systems (IROS). 2020, pp. 2150-2156.\n",
    "\n",
    "\n",
    "Helpful resources:\n",
    "* "
   ]
  }
 ],
 "metadata": {
  "kernelspec": {
   "display_name": "Python 3",
   "language": "python",
   "name": "python3"
  },
  "language_info": {
   "codemirror_mode": {
    "name": "ipython",
    "version": 3
   },
   "file_extension": ".py",
   "mimetype": "text/x-python",
   "name": "python",
   "nbconvert_exporter": "python",
   "pygments_lexer": "ipython3",
   "version": "3.8.13"
  },
  "toc": {
   "base_numbering": 1,
   "nav_menu": {},
   "number_sections": true,
   "sideBar": true,
   "skip_h1_title": false,
   "title_cell": "Table of Contents",
   "title_sidebar": "Contents",
   "toc_cell": false,
   "toc_position": {},
   "toc_section_display": true,
   "toc_window_display": false
  }
 },
 "nbformat": 4,
 "nbformat_minor": 5
}
