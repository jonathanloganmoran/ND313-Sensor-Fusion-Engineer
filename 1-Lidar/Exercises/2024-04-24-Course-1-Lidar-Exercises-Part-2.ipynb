{
 "cells": [
  {
   "cell_type": "markdown",
   "id": "334551a1",
   "metadata": {},
   "source": [
    "# Course 1: Lidar\n",
    "## Part 2: Point Cloud Segmentation \n",
    "#### By Jonathan L. Moran (jonathan.moran107@gmail.com)\n",
    "From the Sensor Fusion Nanodegree programme offered at Udacity."
   ]
  },
  {
   "cell_type": "markdown",
   "id": "ae0c2958",
   "metadata": {},
   "source": [
    "## Objectives"
   ]
  },
  {
   "cell_type": "markdown",
   "id": "326b6f4f",
   "metadata": {},
   "source": [
    "* Use the [Point Cloud Library](https://pointclouds.org/) (PCL) to segment point clouds;\n",
    "* Implement the [Random Sample Consensus](https://en.wikipedia.org/wiki/Random_sample_consensus) (RANSAC) algorithm for planar model fitting;\n",
    "* Perform ground plane separation to \"remove\" the road surface from our point cloud data."
   ]
  },
  {
   "cell_type": "markdown",
   "id": "521c66c6",
   "metadata": {},
   "source": [
    "## 1. Introduction"
   ]
  },
  {
   "cell_type": "markdown",
   "id": "0ff5e954",
   "metadata": {},
   "source": [
    "### 1.1. Point Cloud Segmentation"
   ]
  },
  {
   "cell_type": "markdown",
   "id": "9c6abd0b",
   "metadata": {},
   "source": [
    "Our goal in this lesson is to _process_ the point cloud data we received from the LiDAR sensor and _segment_ it in such a way that we are able to \"remove\" any of the points from our scene which do not belong to the obstacles we wish to detect. In the driving domain, one common type of points in which we wish to remove are _ground plane_ points. These are the points which \"belong\" to the road surface(s) that the vehicle(s) travel along. \n",
    "\n",
    "There are many potential use cases for LiDAR sensors in the automotive space, with point cloud segmentation being one such use case discussed in detail here. There are many other uses for LiDAR sensors and point clouds in the automotive and robotics space: multi-modal sensor calibration / fusion techniques, semi-supervised deep learning models for depth estimation, and for bench-marking tasks used to e.g., evaluate the performance of a \"stand-alone\" sensor on a given task (such as RGB camera-based vision systems on the monocular depth estimation task).\n",
    "\n",
    "In the following section, we will narrow our scope to focus only on ground plane estimation as it relates to point cloud segmentation in the section below..."
   ]
  },
  {
   "cell_type": "markdown",
   "id": "d909c6bb",
   "metadata": {},
   "source": [
    "## 2. Programming Task"
   ]
  },
  {
   "cell_type": "markdown",
   "id": "b54566cd",
   "metadata": {},
   "source": [
    "## 3. Closing Remarks"
   ]
  },
  {
   "cell_type": "markdown",
   "id": "04fbf2ed",
   "metadata": {},
   "source": [
    "#### Alternatives\n",
    "\n",
    "\n",
    "#### Extensions of task"
   ]
  },
  {
   "cell_type": "markdown",
   "id": "4b4351f3",
   "metadata": {},
   "source": [
    "## 4. Future Work"
   ]
  },
  {
   "cell_type": "markdown",
   "id": "2d3cd63c",
   "metadata": {},
   "source": [
    "* ⬜️ ;\n",
    "* ⬜️ ."
   ]
  },
  {
   "cell_type": "markdown",
   "id": "99288d8b",
   "metadata": {},
   "source": [
    "## Credits"
   ]
  },
  {
   "cell_type": "markdown",
   "id": "eceeb99f",
   "metadata": {},
   "source": [
    "This assignment was prepared by Aaron Brown and Michael Maile of Mercedes-Benz Research & Development of North America (MBRDNA), 2021 (link [here](https://learn.udacity.com/nanodegrees/nd313/)).\n",
    "\n",
    "\n",
    "References\n",
    "* [1]\n",
    "\n",
    "Helpful resources:\n",
    "* "
   ]
  }
 ],
 "metadata": {
  "kernelspec": {
   "display_name": "Python 3",
   "language": "python",
   "name": "python3"
  },
  "language_info": {
   "codemirror_mode": {
    "name": "ipython",
    "version": 3
   },
   "file_extension": ".py",
   "mimetype": "text/x-python",
   "name": "python",
   "nbconvert_exporter": "python",
   "pygments_lexer": "ipython3",
   "version": "3.8.13"
  },
  "toc": {
   "base_numbering": 1,
   "nav_menu": {},
   "number_sections": true,
   "sideBar": true,
   "skip_h1_title": false,
   "title_cell": "Table of Contents",
   "title_sidebar": "Contents",
   "toc_cell": false,
   "toc_position": {},
   "toc_section_display": true,
   "toc_window_display": false
  }
 },
 "nbformat": 4,
 "nbformat_minor": 5
}
