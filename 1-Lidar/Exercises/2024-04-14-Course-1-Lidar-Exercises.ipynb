{
  "nbformat": 4,
  "nbformat_minor": 0,
  "metadata": {
    "colab": {
      "provenance": []
    },
    "kernelspec": {
      "name": "python3",
      "display_name": "Python 3"
    },
    "language_info": {
      "name": "python"
    }
  },
  "cells": [
    {
      "cell_type": "markdown",
      "source": [
        "# Course 1: Lidar\n",
        "## Part 1: Introduction to Lidar and Point Clouds\n",
        "#### By Jonathan L. Moran (jonathan.moran107@gmail.com)\n",
        "From the Sensor Fusion Nanodegree programme offered at Udacity."
      ],
      "metadata": {
        "id": "xLABQhOFrDFz"
      }
    },
    {
      "cell_type": "markdown",
      "source": [
        "## Objectives"
      ],
      "metadata": {
        "id": "9PW790exrDXR"
      }
    },
    {
      "cell_type": "markdown",
      "source": [
        "* Learn about LiDAR sensors, common LiDAR sensor types, and several LiDAR sensor defining characteristics;\n",
        "* Learn about point clouds and their purpose in representing LiDAR sensor data;\n",
        "* Understand several design considerations made when using LiDAR sensors on autonomous vehicles."
      ],
      "metadata": {
        "id": "l6yhHN6Bs9N3"
      }
    },
    {
      "cell_type": "markdown",
      "source": [
        "## 1. Introduction"
      ],
      "metadata": {
        "id": "CpG3b8Ccs9ha"
      }
    },
    {
      "cell_type": "markdown",
      "source": [
        "### 1.1. The Lidar Sensor"
      ],
      "metadata": {
        "id": "itgfLW7ctAcy"
      }
    },
    {
      "cell_type": "markdown",
      "source": [
        "[LiDAR](https://en.wikipedia.org/wiki/Lidar) (also \"Lidar\", an acronym for Light Detection and Ranging) is a method for estimating distances to objects using lightwaves. Most Lidar sensors conists of a [laser scanning](https://en.wikipedia.org/wiki/Laser_scanning) module and a [photodiode](https://en.wikipedia.org/wiki/Photodiode) module. In essence, these two modules work together to _transmit_ and _receive_ the pulsed laser light which is emitted by the sensor unit.\n",
        "\n",
        "To estimate the distance to a nearby object, the Lidar sensor will first emit a laser beam in pulses or bursts. Assuming that nearby object(s) exist, these laser beams will then \"bounce\" or be reflected off of the surface of the object(s). The reflected laser beams are then returned to the sensor unit to be detected by the receiver (the photodiode). The time it took for the beam to be emitted and then returned to the sensor (i.e., the round-trip time) is calculated, from which the distance to the object can be estimated."
      ],
      "metadata": {
        "id": "Qkmv9wP-wbwT"
      }
    },
    {
      "cell_type": "markdown",
      "source": [
        "#### Types of Lidar Sensors"
      ],
      "metadata": {
        "id": "fXLJU4NWtZlp"
      }
    },
    {
      "cell_type": "markdown",
      "source": [
        "Lidar sensors can be categorised into different types based on their underlying technologies and operational principles.\n",
        "\n",
        "When selecting a Lidar sensor for a specific application, one must weigh the various trade-offs that exist between Lidar sensor types against performance, cost and other characteristics to determine suitability."
      ],
      "metadata": {
        "id": "1NkUASJezQU6"
      }
    },
    {
      "cell_type": "markdown",
      "source": [
        "Below is a list of trade-offs and considerations for the common types of Lidar sensors that exist today:\n",
        "\n",
        "\n",
        "1. **Mechanical LiDAR**: a _rotating_ sensor unit that \"spins\" about an axis, typically generating a wide horizontal field-of-view (azimuth), e.g., $360^{\\circ}$.\n",
        "   * **Resolution**: High — mechanical LiDAR systems often offer high-resolution 3D scanning capabilities, making them suitable for applications requiring detailed point cloud data;\n",
        "   * **Field-of-View**: Limited — due to the rotating scanning mechanism, mechanical LiDAR systems typically have a limited vertical field-of-view (FOV). This is due to the configuration of vertically-stacked laser diodes, where each is coupled with a reciever element. For example, the Velodyne VLP64 has $64$ vertically-stacked laser diodes. While this mechanical LiDAR unit has a comprehensive $360^{\\circ}$ horizontal field-of-view, its vertical field-of-view is only $26.8^{\\circ}$, which at farther distances may not be sufficient enough to resolve important details in the driving domain;\n",
        "   * **Reliability**: Limited — mechanical LiDAR systems contain rotating parts which mechanically spin the laser-emitting diodes. Compared to non-rotating solid-state systems, these mechanical LiDAR systems are prone to additional wear-and-tear, potentially affecting the reliability and longevity of the sensor unit over time;\n",
        "   * **Cost**: High — due to their complex design and moving parts, mechanical LiDAR units tend to be more expensive than the others.\n",
        "2. **MEMS (Micro-Electrical-Mechanical) LiDAR**: a partially-rotating sensor unit consisting of many oscillating mirrors which scatter laser beams across a scene.\n",
        "   * **Resolution**: Limited — both the resolution and the range may be limited with MEMS-based LiDAR systems. Since MEMS rely on an array of mirrors, there are several design considerations that affect resolution. Namely, the mirror size and the mirror oscillation affect the overall resolution of the sensor. Here, the speed, stability and sensitivity of the unit are cruicial for maintaining sufficient resolution;\n",
        "   * **Field-of-View**: Wide — due to the speed and accuracy in which the mirror elements can be tilted, MEMS LiDAR systems have the ability to scan large horizontal areas. However, this ability depends significantly on the optical design. This includes the arrangement of the mirrors and the lens design.  These design characteristics may be used to improve the laser density (via rapid beam deflection) and to ensure the optical path is optimised for satisfactory resolution (by reducing beam divergence and encouraging precise targeting - leading to smaller point sizes and higher resolution);\n",
        "   * **Reliability**: Moderate — MEMS-based LiDAR systems have enhanced durability due to their solid-state nature (i.e., not requiring a rotating component), making them more resistant to shock and vibration over traditional mechanical LiDAR sensors. However, the micromirror design still presents concerns with respect to manufacturing defects or evironmental factors. Also, MEMS is a newer technology and any conclusive long-term reliability data may not be available;\n",
        "   * **Cost**: Moderate — can be more cost-effective when compared to other sensor types due to their simpler design and manufacturing processes.\n",
        "3. **Frequency-Modulated Continuous Wave (FMCW) LiDAR**: a novel LiDAR system emitting \"electronically steered\" laser light without the use of moving parts.\n",
        "   * **Resolution**: Moderate — FMCW LiDAR is able to offer improved resolution and efficiency due to its continuous-wave operation. By altering the \"chirp rate\" (rate of frequency change), the FMCW LiDAR can produce variable resolution at the cost of measurement time and range;\n",
        "   * **Field-of-View**: Wide — FMCW LiDAR systems are able to electronically steer the antenna arrays to achieve a variable FOV. However, these mechanisms can add complexity and cost to the system;\n",
        "   * **Reliability**: High — unlike traditional mechanical scanning LiDAR, FMCW LiDAR has good reliability due to the absence of moving parts. FMCW LiDAR systems may also be less sensitive to interference from sources such as sunlight, reflections, and other LiDAR units. In addition, FMCW LiDAR systems [have been shown](https://www.mobileye.com/blog/radar-lidar-next-generation-active-sensors/) to have better performance in common operating conditions, e.g., in adverse weather [3];\n",
        "   * **Cost**: Moderate — can often be a moderate-cost option compared to high-resolution and mechanical LiDAR systems.\n",
        "4. **Flash LiDAR**: entirely unlike scanning LiDAR systems, single-beam flash LiDAR systems emit an array of light, flooding the scene with light, which then illuminates every pixel in the sensor module simultaneously. Flash LiDAR is often compared to a camera with flash attachment.\n",
        "   * **Resolution**: High — can achieve high reoslution within its limited range [4];\n",
        "   * **Field-of-View**: High — captures the entire scene in a single pulse;\n",
        "   * **Reliability**: Moderate — Flash LiDAR is still a developing technology, which complicates the availability of long-term reliability studies;\n",
        "   * **Cost** High — Flash LiDAR can come with a relatively high cost due to their advanced technology and complex design.\n"
      ],
      "metadata": {
        "id": "-Qg2_IaBvHpo"
      }
    },
    {
      "cell_type": "markdown",
      "source": [
        "In this course we are going to primarily consider mechanical (rotating) LiDAR sensor units. Notably, the Velodyne HDL-64E [5], as shown in Figure 1 below:"
      ],
      "metadata": {
        "id": "XCnqkBE2toIM"
      }
    },
    {
      "cell_type": "markdown",
      "source": [
        "<img src=\"https://video.udacity-data.com/topher/2019/March/5c82b49a_hdl-64e/hdl-64e.png\" alt=\"Figure 1. Velodyne HDL-64E: Visualised.\" width=\"50%\" height=\"50%\">\n",
        "\n",
        "\n",
        "$$\\textrm{Figure 1. Velodyne HDL-64E: Visualised.}$$"
      ],
      "metadata": {
        "id": "4webBjANv0YX"
      }
    },
    {
      "cell_type": "markdown",
      "source": [
        "#### Properties of Lidar Sensors"
      ],
      "metadata": {
        "id": "jXbAMoNqtaAt"
      }
    },
    {
      "cell_type": "markdown",
      "source": [
        "<img src=\"https://video.udacity-data.com/topher/2019/March/5c82b609_vlp-sensor-specs/vlp-sensor-specs.png\" alt=\"Figure 2. Velodyne HDL-64E: Specification Sheet.\" width=\"50%\" height=\"50%\">\n",
        "$$\\textrm{Figure 2. Velodyne HDL-64E: Specification Sheet.}$$"
      ],
      "metadata": {
        "id": "Mx4zpyY-wKFM"
      }
    },
    {
      "cell_type": "markdown",
      "source": [
        "#### Quiz Question #1"
      ],
      "metadata": {
        "id": "xDrD80EXttOm"
      }
    },
    {
      "cell_type": "markdown",
      "source": [
        "**Question**: Given the above spec sheet shown in Figure 2, approximately how many points does an HDL-64E collect every second?"
      ],
      "metadata": {
        "id": "96DVxhM8tyIV"
      }
    },
    {
      "cell_type": "markdown",
      "source": [
        "**Answer**: 2,880,000 points per second.\n",
        "\n",
        "To calculate this answer, we multiply the number of lasers by the average update rate, i.e., $64 \\times 10 Hz$. We must also account for the horizontal field-of-view, $360^{\\circ}$, with respect to its angular resolution, $0.08^{\\circ}$. In other words, the LiDAR sensor collects $64$ points for each of the $360^{\\circ} / 0.08^{\\circ} = 4500$ increments. This gives us a resulting $64 \\times \\left(4500 * 10 Hz\\right) = 2,880,000$ points per second."
      ],
      "metadata": {
        "id": "BrM_4dMY55IF"
      }
    },
    {
      "cell_type": "code",
      "source": [
        "n_lasers = 64                 # Vertically-arranged\n",
        "field_of_view = 360           # Degrees\n",
        "angular_resolution = 0.08     # Degrees\n",
        "update_rate_avg = 10          # Hertz\n",
        "\n",
        "print(\"Total points collected every second: {:.2f}\".format(\n",
        "      n_lasers * field_of_view / angular_resolution * update_rate_avg\n",
        "))"
      ],
      "metadata": {
        "colab": {
          "base_uri": "https://localhost:8080/"
        },
        "id": "mz2Dnyb78CJA",
        "outputId": "ce912c0a-54a2-405e-fa0d-252fd09dd14f"
      },
      "execution_count": 4,
      "outputs": [
        {
          "output_type": "stream",
          "name": "stdout",
          "text": [
            "Total points collected every second: 2880000.00\n"
          ]
        }
      ]
    },
    {
      "cell_type": "markdown",
      "source": [
        "### 1.2. Point Clouds\n"
      ],
      "metadata": {
        "id": "zhmZEMYYtaTv"
      }
    },
    {
      "cell_type": "markdown",
      "source": [],
      "metadata": {
        "id": "mkF_13suts7r"
      }
    },
    {
      "cell_type": "markdown",
      "source": [
        "#### Point Cloud Basics"
      ],
      "metadata": {
        "id": "7d48HZuEtdra"
      }
    },
    {
      "cell_type": "markdown",
      "source": [],
      "metadata": {
        "id": "NBId5vWYteD5"
      }
    },
    {
      "cell_type": "markdown",
      "source": [],
      "metadata": {
        "id": "DmFdN3pbt77w"
      }
    },
    {
      "cell_type": "markdown",
      "source": [
        "#### Point Cloud Tools"
      ],
      "metadata": {
        "id": "Mu6d31Ggt8PL"
      }
    },
    {
      "cell_type": "markdown",
      "source": [],
      "metadata": {
        "id": "c1VumHCWuAk5"
      }
    },
    {
      "cell_type": "markdown",
      "source": [
        "### 1.3. Using Lidar on Autonomous Vehicles"
      ],
      "metadata": {
        "id": "ulR7RWgPuA-w"
      }
    },
    {
      "cell_type": "markdown",
      "source": [
        "## 2."
      ],
      "metadata": {
        "id": "7x-P6vsRuBQR"
      }
    },
    {
      "cell_type": "markdown",
      "source": [
        "## 3. Closing Remarks"
      ],
      "metadata": {
        "id": "qoO7vDJONOfC"
      }
    },
    {
      "cell_type": "markdown",
      "source": [],
      "metadata": {
        "id": "VRum8ZQk2nmG"
      }
    },
    {
      "cell_type": "markdown",
      "source": [
        "#### Alternatives\n",
        "\n",
        "\n",
        "#### Extensions of task"
      ],
      "metadata": {
        "id": "eHiarx8cNO1n"
      }
    },
    {
      "cell_type": "markdown",
      "source": [
        "## 4. Future Work"
      ],
      "metadata": {
        "id": "_AYH20wDNPb0"
      }
    },
    {
      "cell_type": "markdown",
      "source": [],
      "metadata": {
        "id": "__7Jr0vONZ22"
      }
    },
    {
      "cell_type": "markdown",
      "source": [
        "## Credits"
      ],
      "metadata": {
        "id": "pE4yq8NaNZyP"
      }
    },
    {
      "cell_type": "markdown",
      "source": [
        "This assignment was prepared by Aaron Brown and Michael Maile of Mercedes-Benz Research & Development of North America (MBRDNA), 2021 (link [here](https://learn.udacity.com/nanodegrees/nd313/)).\n",
        "\n",
        "\n",
        "References\n",
        "* [1] The Next Generation of Active Sensors for Autonomous Driving. Mobileye. 2021. https://www.mobileye.com/blog/radar-lidar-next-generation-active-sensors/.\n",
        "* [2] Things you need to know about LiDAR: solid-state and hybrid solid-state, what's the difference? Hesai Group. 2023. https://www.hesaitech.com/things-you-need-to-know-about-lidar-solid-state-and-hybrid-solid-state-whats-the-difference/.\n",
        "* [3] At the heart of sensors — MEMS technology for LiDAR. Mathias Müller. Blickfield Blog. 2020. https://www.blickfeld.com/blog/mems-technology-for-lidar/.\n",
        "* [4] How Multi-Beam Flash Lidar Works. Angus Pacala. Ouster Inc. 2018. https://ouster.com/insights/blog/how-multi-beam-flash-lidar-works.\n",
        "* [5] High Definition Lidar: Velodyne HDL-64E. Hypertech Co. 2014. https://hypertech.co.il/wp-content/uploads/2015/12/HDL-64E-Data-Sheet.pdf."
      ],
      "metadata": {
        "id": "4R86W4r1NZuR"
      }
    }
  ]
}